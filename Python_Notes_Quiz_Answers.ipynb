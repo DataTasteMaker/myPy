{
 "cells": [
  {
   "cell_type": "markdown",
   "metadata": {},
   "source": [
    "#### Q1. Which module must be imported if we want to compute with arrays?\n",
    "\n",
    "* array\n",
    "* scitools.all\n",
    "* math\n",
    "* numpy\n",
    "\n",
    "\n",
    "Ans:<font color = \"red\"> <b>numpy </font> </b>\n"
   ]
  },
  {
   "cell_type": "markdown",
   "metadata": {},
   "source": [
    "#### Q2. Will y1, y2 and y3 contain the same numerical values?\n",
    "Ans:<font color = \"red\"> <b>Yes... execute and see!</font></b>\n",
    "\n",
    "``` python \n",
    "from math import *\n",
    "from numpy import *\n",
    "\n",
    "n = 11; a = 1; b = 3\n",
    "dx = (b-a)/float(n-1)\n",
    "\n",
    "print (n, a, b, dx)\n",
    "\n",
    "y1 = []\n",
    "for i in range(n):\n",
    "    x = a + i * dx\n",
    "    y = x ** 4 * exp(-x)\n",
    "    y1.append(y)\n",
    "y1\n",
    "\n",
    "x2 = [ a+ i*dx for i in range(n)]\n",
    "y2 = [x**4*exp(-x) for x in x2]\n",
    "y2 \n",
    "\n",
    "x = linspace(a,b,n)\n",
    "y3 = x ** 4 * exp(-x)\n",
    "y3\n",
    "\n",
    "print(\"\\n>> y1 = %s \\n\\n>>y2 = %s \\n\\n>>y3 = %s\"%(y1, y2,y3))\n",
    "```"
   ]
  },
  {
   "cell_type": "code",
   "execution_count": null,
   "metadata": {
    "collapsed": false
   },
   "outputs": [],
   "source": [
    "from math import *\n",
    "from numpy import *\n",
    "\n",
    "n = 11; a = 1; b = 3\n",
    "dx = (b-a)/float(n-1)\n",
    "\n",
    "print (n, a, b, dx)\n",
    "\n",
    "y1 = []\n",
    "for i in range(n):\n",
    "    x = a + i * dx\n",
    "    y = x ** 4 * exp(-x)\n",
    "    y1.append(y)\n",
    "y1\n",
    "\n",
    "x2 = [ a+ i*dx for i in range(n)]\n",
    "y2 = [x**4*exp(-x) for x in x2]\n",
    "y2 \n",
    "\n",
    "x = linspace(a,b,n)\n",
    "y3 = x ** 4 * exp(-x)\n",
    "y3\n",
    "\n",
    "print(\"\\n>> y1 = %s \\n\\n>>y2 = %s \\n\\n>>y3 = %s\"%(y1, y2,y3))"
   ]
  },
  {
   "cell_type": "markdown",
   "metadata": {},
   "source": [
    "#### Q3 Which version of <code>sqrt</code> is used in the computation?\n",
    "\n",
    "``` python\n",
    "from cmath import *\n",
    "from math import *\n",
    "from numpy.lib.scimath import *\n",
    "from numpy import *\n",
    "\n",
    "print (sqrt(-1))\n",
    "```\n",
    "\n",
    "Ans: <font color = \"red\"> <b>The one from <code>cmath</code> or <code>numpy.lib.scimath</code>, which can handle negative arguments</font></b>"
   ]
  },
  {
   "cell_type": "code",
   "execution_count": null,
   "metadata": {
    "collapsed": false
   },
   "outputs": [],
   "source": [
    "# from cmath import *\n",
    "# from math import *\n",
    "# from numpy.lib.scimath import *\n",
    "# from numpy import * \n",
    "\n",
    "print (sqrt(-1))\n"
   ]
  },
  {
   "cell_type": "markdown",
   "metadata": {},
   "source": [
    "#### Q4. How can you turn a list [1,2,3,4] into an array of  <code>float</code> elements?\n",
    "\n",
    "* x = array([1,2,3,4])\n",
    "\n",
    "* x = array([1,2,3,4], float)\n",
    "\n",
    "* x = array(1,2,3,4)\n",
    "\n",
    "* x = numpy(1,2,3,4)\n",
    "\n",
    "\n",
    "Ans: <font color = \"red\"> <b>x = array([1,2,3,4], float)</font></b>"
   ]
  },
  {
   "cell_type": "code",
   "execution_count": null,
   "metadata": {
    "collapsed": false
   },
   "outputs": [],
   "source": [
    "x = array([1,2,3,4], float)\n",
    "x"
   ]
  },
  {
   "cell_type": "markdown",
   "metadata": {},
   "source": [
    "#### Q5. Somewhat advanced - requires reading of the appendix \"Variable Number of Function Arguments\"\n",
    "Will this code produce a Numerical Python array <code>a</code> with zero values (or almost zero, to machine precision (1E-16)?\n",
    "\n",
    "\n",
    "``` python\n",
    "from numpy import *\n",
    "def numpy(*args):\n",
    "    return array(args)\n",
    "\n",
    "a = numpy(0,pi, 2*pi,3*pi,4*pi)\n",
    "a = sin(a)\n",
    "a\n",
    "```\n",
    "* Yes\n",
    "* No, because <code><b>sin</b></code> from <code><b>numpy</b></code> will not work when a function with name <code><b>numpy</b></code> is defined\n",
    "* No, because <code><b>*args</b></code> is illegal syntax for arguments to a function\n",
    "\n",
    "\n",
    "Ans: <font color = \"red\"> <b>Yes</font></b>\n",
    "\n"
   ]
  },
  {
   "cell_type": "code",
   "execution_count": null,
   "metadata": {
    "collapsed": false
   },
   "outputs": [],
   "source": [
    "from numpy import *\n",
    "def numpy(*args):\n",
    "    return array(args)\n",
    "\n",
    "a = numpy(0,pi, 2*pi,3*pi,4*pi)\n",
    "a = sin(a)\n",
    "a"
   ]
  },
  {
   "cell_type": "markdown",
   "metadata": {
    "collapsed": false
   },
   "source": [
    "#### Q6. Will this program work?\n",
    "``` python\n",
    "from numpy import *\n",
    "\n",
    "x = [0, 0.5, 1 ,1.5 ,2]\n",
    "y = x ** 2 + sin(x)\n",
    "``` \n",
    "\n",
    "* No, because <code><b>x**2</b></code> and <code><b>sin(x)</b></code> can only work with <code><b>x</b></code> as <code><b>int</b></code> or <code><b>float</b></code>.\n",
    "* No, because <code><b>x**2</b></code> and <code><b>sin(x)</b></code> will not work for <code><b>x</b></code> as list, only <code><b>x</b></code> as array.\n",
    "* No, because we need a dot to indicate operations with lists and arrays: <code><b>.x**2</b></code> and <code><b>sin(.x)</b></code>\n",
    "\n",
    "Ans: <font color = \"red\"> <b>No, because <code><b>x**2</b></code> and <code><b>sin(x)</b></code> will not work for <code><b>x</b></code> as list, only <code><b>x</b></code> as array.</font></b>\n",
    "\n",
    "<b>The correct code is: </b>\n",
    "```python\n",
    "import numpy as np\n",
    "\n",
    "x = np.array([0, 0.5, 1 ,1.5 ,2])\n",
    "y = x ** 2 + sin(x)\n",
    "print y\n",
    "```\n",
    "\n"
   ]
  },
  {
   "cell_type": "code",
   "execution_count": null,
   "metadata": {
    "collapsed": false
   },
   "outputs": [],
   "source": [
    "#from numpy import *\n",
    "import numpy as np\n",
    "\n",
    "x = np.array([0, 0.5, 1 ,1.5 ,2])\n",
    "y = x ** 2 + sin(x)\n",
    "print y"
   ]
  },
  {
   "cell_type": "markdown",
   "metadata": {},
   "source": [
    "#### Q7. Which explanation explains best what is wrong with this program?\n",
    "```python\n",
    "import numpy\n",
    "s = sin([0,1])\n",
    "print s\n",
    "```\n",
    "\n",
    "* <code><b>sin</b></code> must be imported from **<code>math</code>**\n",
    "* <code><b>sin</b></code> must take a number, not a list, as argument\n",
    "* <code><b>sin</b></code> must be replaced by <code><b>numpy.sin</b></code>\n",
    "* The list <code><b>[0, 1]</b></code> must be a numpy array, not a list, but then the program will work\n",
    "\n",
    "\n",
    "Ans: <font color = \"red\"> <b>The list <code><b>[0, 1]</b></code> must be a numpy array, not a list, but then the program will work.</font></b>\n"
   ]
  },
  {
   "cell_type": "code",
   "execution_count": null,
   "metadata": {
    "collapsed": false
   },
   "outputs": [],
   "source": [
    "import numpy\n",
    "s = sin([0,1])\n",
    "print s"
   ]
  },
  {
   "cell_type": "markdown",
   "metadata": {},
   "source": [
    "#### Q8. What will <code>x</code> contain at the end of this program?\n",
    "```python\n",
    "from numpy import *\n",
    "x = linspace(0, 10, 3)\n",
    "s = x \n",
    "s += 5\n",
    "```\n",
    "<code>\n",
    "* [0. 5. 10.]\n",
    "* [5. 10. 15.]\n",
    "* [0. 3. 6. 9.]\n",
    "* [5. 5. 10.]\n",
    "* 5\n",
    "* [0. 5. 10. 5.]\n",
    "</code>\n",
    "\n",
    "\n",
    "Ans: <font color = \"red\"> <b>[  5.  10.  15.]</font></b>"
   ]
  },
  {
   "cell_type": "code",
   "execution_count": null,
   "metadata": {
    "collapsed": false
   },
   "outputs": [],
   "source": [
    "from numpy import *\n",
    "x = linspace(0, 10, 3)\n",
    "s = x \n",
    "s += 5\n",
    "print x"
   ]
  },
  {
   "cell_type": "markdown",
   "metadata": {},
   "source": [
    "#### Q9. Which of these statements is false?\n",
    "\n",
    "* Vectorization normally speeds up Python programs significantly\n",
    "* Performing mathematical operations directly on complete arrays is called vectorization.\n",
    "* Vectorization is automatically performed by Python when we write **<code>for</code>** loops with operations on array inside the loops.\n",
    "* Arrays with one index are called vectors.\n",
    "\n",
    "Ans: <font color = \"red\">**Vectorization is automatically performed by Python when we write for loops with operations on arrays inside the loops.**</font>"
   ]
  },
  {
   "cell_type": "markdown",
   "metadata": {
    "collapsed": true
   },
   "source": [
    "#### Q10.  What does <code>y</code> contain?\n",
    "```python\n",
    "x = linspace(0, 100, 101)\n",
    "y = x[1:50:10]\n",
    "```\n",
    "* [10, 20, 30, 40]\n",
    "* [1, 11, 21, 31, 41, 50]\n",
    "* [1, 11, 21, 31, 41]\n",
    "* [1, 11, 21, 31, 41, 49]\n",
    "\n",
    "Ans.: <font color = \"red\">**[1, 11, 21, 31, 41]**</font>\n"
   ]
  },
  {
   "cell_type": "code",
   "execution_count": null,
   "metadata": {
    "collapsed": false
   },
   "outputs": [],
   "source": [
    "from numpy import *\n",
    "x = linspace(0, 100, 101)\n",
    "print (x)\n",
    "y = x[1:50:10]\n",
    "print y"
   ]
  },
  {
   "cell_type": "markdown",
   "metadata": {},
   "source": [
    "#### Q11. When plotting a curve, we can control color, line types and markers. What will a curve plotted with <code>plot(x, y, 'ro')</code> look like? \n",
    "\n",
    "* A solid line with rouge color\n",
    "* A dashed line with red color\n",
    "* Red circles at the data points\n",
    "* Red dots at the data points\n",
    "\n",
    "Ans: <font color = \"red\">**Red circles at the data points**</font>\n",
    " The first character in 'ro' specifies the color, 'r' for red, and the second the line type or marker, here 'o' specifies circles"
   ]
  },
  {
   "cell_type": "markdown",
   "metadata": {},
   "source": [
    "#### Q12. What is the correct numpy syntax for allocating a one-dimensional array (or vector) with four elements? \n",
    "\n",
    "* a = eye(4)\n",
    "* a = linspace(4)\n",
    "* a = zeros(4)\n",
    "* a = array(4)\n",
    "\n",
    "Ans: <font color = \"red\">**a = zeros(4)**</font>\n",
    " This initializes a vector with 4 zeros."
   ]
  },
  {
   "cell_type": "markdown",
   "metadata": {},
   "source": [
    "#### Q13. Which line in this program is redundant? \n",
    "\n",
    "<pre>\n",
    "1: from math import sqrt\n",
    "2: from scitools.all import *\n",
    "3: x = linspace(0, 100, 201)\n",
    "4: y = sqrt(x)\n",
    "5: plot(x, y)\n",
    "</pre>\n",
    "\n",
    "\n",
    "Ans: <font color = \"red\">**Line 1:**</font>\n",
    "\n",
    "The sqrt function from **```math```** is overwritten in the 2nd line, and anyway, the **```sqrt```** function from **```math```** cannot be used in line 4 because we need a **```sqrt```** function for arrays (from **```numpy```** directly or via **```scitools.all```**)."
   ]
  },
  {
   "cell_type": "markdown",
   "metadata": {},
   "source": [
    "#### Q14. What will be the output of this program?\n",
    "\n",
    "``` python\n",
    "from numpy import *\n",
    "a = linspace(0, 1, 12)\n",
    "a.shape = (2, 6)\n",
    "a = reshape(a, (3, 4))\n",
    "print a.size, a.shape[0]\n",
    "```\n",
    "\n",
    "* 12 1\n",
    "* 3 4\n",
    "* 12 3\n",
    "* 12 2\n",
    "\n",
    "Ans: <font color = \"red\">**12 3**</font>\n",
    "\n",
    "**```a```** is a 3x4 array, **```a.size```** is the total number of element, i.e. 12, and **```a.shape[0]```** is the number of rows (in first dimension), i.e. 3, after the last **```reshape```**."
   ]
  },
  {
   "cell_type": "code",
   "execution_count": null,
   "metadata": {
    "collapsed": false
   },
   "outputs": [],
   "source": [
    "from numpy import *\n",
    "a = linspace(0, 1, 12)\n",
    "print(\"The contents of a \\n%s\" %a)\n",
    "print \"\\n\\nThe size of a  ---> %s\"%a.size\n",
    "a.shape = (2, 6)\n",
    "print \"\\n\\nThe shape of a --->\", a.shape\n",
    "a = reshape(a, (3, 4))\n",
    "print \"\\n\\n New shape of a  --> %s\", a.shape\n",
    "print(\"The contents of New a \\n%s\" %a)\n",
    "import sys\n",
    "#from scitools.all import *\n",
    "#%matplotlib inline\n",
    "from numpy import *\n",
    "from matplotlib import pyplot as plt\n",
    "a = float(sys.argv[1])\n",
    "print a\n",
    "t = linspace(0, 100, 3)\n",
    "print t\n",
    "y = abs(a-t)\n",
    "plt.plot(t, y)\n",
    "#plt.plot(t, y, axis=[t[0], t[-1], 0, y.max()])\n",
    "plt.show()\n",
    "print a.size, a.shape[0]"
   ]
  },
  {
   "cell_type": "markdown",
   "metadata": {},
   "source": [
    "#### Q15. Is this program correct?\n",
    "\n",
    "```python\n",
    "from scitools.all import *\n",
    "x = linspace(0, 10, 100)\n",
    "y = sqrt(x)\n",
    "x2 = x[::10]\n",
    "y2 = y[::10]\n",
    "figure(3)\n",
    "plot(x, y)\n",
    "figure(100)\n",
    "plot(x2, y2)\n",
    "```\n",
    "\n",
    "* Yes\n",
    "* No\n",
    "\n",
    "Ans: <font color = \"red\">**Yes**</font>\n",
    "\n",
    "Logically it is correct, however needs refinement with regard to syntax and some importing of modules\n",
    "\n",
    "As of today(29-Feb) - I do not have **```scitools```** installed on my machine hence the code would not work properly"
   ]
  },
  {
   "cell_type": "code",
   "execution_count": null,
   "metadata": {
    "collapsed": false
   },
   "outputs": [],
   "source": [
    "%matplotlib inline\n",
    "from matplotlib import pyplot as plt\n",
    "\n",
    "x = linspace(0, 10, 100)\n",
    "y = sqrt(x)\n",
    "x2 = x[::10]\n",
    "y2 = y[::10]\n",
    "plt.figure(3)\n",
    "plt.plot(x, y)\n",
    "plt.figure(100)\n",
    "plt.plot(x2, y2, 'r')\n",
    "plt.show()"
   ]
  },
  {
   "cell_type": "markdown",
   "metadata": {},
   "source": [
    "#### Q16. Is this the right way to plot the function f(t)=abs(a-t)?\n",
    "\n",
    "```python\n",
    "import sys\n",
    "from scitools.all import *\n",
    "a = float(sys.argv[1])\n",
    "t = linspace(0, 100, 3)\n",
    "y = abs(a-t)\n",
    "plot(t, y, axis=[t[0], t[-1], 0, y.max()])\n",
    "```\n",
    "\n",
    "* Yes, because **```abs(x)```** is piecewise linear, we only need two lines, i.e., 3 points\n",
    "* No, because this code works for **``1a = 50```** only\n",
    "* Yes, if the function were **```abs(t-a)```**\n",
    "\n",
    "Ans: <font color = \"red\">**No, because this code works for **```1a = 50```** only**</font>\n",
    "\n",
    " Correct! A more general code could be to set t = [a-10, a, a + 10] (10 is chosen arbitrarily)\n",
    "\n",
    "```python\n",
    "import sys\n",
    "#from scitools.all import *\n",
    "from numpy import *\n",
    "from matplotlib import pyplot as plt\n",
    "a = float(sys.argv[1])\n",
    "print a\n",
    "t = linspace(0, 100, 3)\n",
    "print t\n",
    "y = abs(a-t)\n",
    "plt.plot(t, y)\n",
    "#plt.plot(t, y, axis=[t[0], t[-1], 0, y.max()])\n",
    "plt.show()\n",
    "```\n",
    "\n"
   ]
  },
  {
   "cell_type": "markdown",
   "metadata": {},
   "source": [
    "#### Q17. One of these functions will not be plotted accuratly in the vicinity of x=0. Which one?\n",
    "\n",
    "* ``` 1/(x+1)``` \n",
    "* ``` sqrt(x+1)```\n",
    "* ``` sin(1/x)```\n",
    "* ``` abs(x-1)```\n",
    "\n",
    "\n",
    "Ans: <font color = \"red\">**```sin(1/x)```**</font>\n",
    "\n",
    " The problem here occurs at x=0"
   ]
  },
  {
   "cell_type": "markdown",
   "metadata": {},
   "source": [
    "#### Q18. What does this figure represent?\n",
    "```python\n",
    "from scitools.all import *\n",
    "t = linspace(0, 2*pi, 201)\n",
    "x = cos(t)\n",
    "y = sin(t)\n",
    "plot(x, y)\n",
    "```\n",
    "\n",
    "* Two graphs, one of the cosine function and one of the sine function\n",
    "* A circle\n",
    "* A circle, but it cannot be plotted because there are two y values for each x value (the curve is not a function)\n",
    "* Nothing is plotted because x does not contain uniformly spaced x coordinates with increasing values\n",
    "\n",
    "Ans: <font color = \"red\">**A circle**</font>"
   ]
  },
  {
   "cell_type": "code",
   "execution_count": null,
   "metadata": {
    "collapsed": false
   },
   "outputs": [],
   "source": [
    "from numpy import *\n",
    "from matplotlib import pyplot as plt\n",
    "t = linspace(0, 2*pi, 201)\n",
    "x = cos(t)\n",
    "y = sin(t)\n",
    "plt.plot(x, y)"
   ]
  }
 ],
 "metadata": {
  "kernelspec": {
   "display_name": "Python 2",
   "language": "python",
   "name": "python2"
  },
  "language_info": {
   "codemirror_mode": {
    "name": "ipython",
    "version": 2
   },
   "file_extension": ".py",
   "mimetype": "text/x-python",
   "name": "python",
   "nbconvert_exporter": "python",
   "pygments_lexer": "ipython2",
   "version": "2.7.11"
  }
 },
 "nbformat": 4,
 "nbformat_minor": 0
}
