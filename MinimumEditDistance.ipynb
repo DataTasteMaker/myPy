{
 "cells": [
  {
   "cell_type": "markdown",
   "metadata": {},
   "source": [
    "### Find the Minimum Edit Distance for two strings"
   ]
  },
  {
   "cell_type": "code",
   "execution_count": 72,
   "metadata": {
    "collapsed": false
   },
   "outputs": [
    {
     "name": "stdout",
     "output_type": "stream",
     "text": [
      "The cost of changing \"rain\" to \"drain\" is == 1\n",
      "\n",
      "\n",
      "The cost of changing \"doremifaso\" to \"domirefaso\" is == 4\n",
      "\n",
      "\n",
      "The cost of changing \"India\" to \"India\" is == 0\n",
      "\n",
      "\n",
      "The cost of changing \"intention\" to \"execution\" is == 8\n",
      "\n",
      "\n",
      "The cost of changing \"distances\" to \"distnaces\" is == 2\n",
      "\n",
      "\n"
     ]
    }
   ],
   "source": [
    "## Minimum Edit Distance\n",
    "\n",
    "def fngetMinEditDistance(ipstr1, ipstr2):\n",
    "    # Pull out the lengths of the strings\n",
    "    len1 = len(ipstr1)\n",
    "    len2 = len(ipstr2)\n",
    "\n",
    "    # Create a list of 'm' lists where m = length of string-1\n",
    "    # ... and the first list element will have 'n' elements, where n = length of string-2\n",
    "    mylist = []\n",
    "    for i in range(len1+1):\n",
    "        mylist.append([i])\n",
    "    for i in range(len2+1):\n",
    "        mylist[0].append(i)\n",
    "       \n",
    "    # remove the extra 0 element\n",
    "    del mylist[0][0]\n",
    "\n",
    "\n",
    "    # traverse through the loop of lenghts of strings\n",
    "    for j in range(1,len2+1):  # first loop on string 2\n",
    "        for i in range(1, len1+1): # second loop on string 1\n",
    "            # Extract character from each of the 2 strings\n",
    "            c1 = ipstr1[i - 1]\n",
    "            c2 = ipstr2[j - 1]\n",
    "           \n",
    "            # if the two characters from 2 strings are same, we will not do any changes\n",
    "            if c1 == c2:\n",
    "                mylist[i].insert(j,mylist[i-1][j-1])\n",
    "            else:\n",
    "                # if the characters are different, we will find the minimum of the distances\n",
    "                minDist = min(mylist[i - 1][j] + 1, mylist[i][j - 1] + 1, mylist[i - 1][j - 1] + 2)\n",
    "                mylist[i].insert(j,minDist)\n",
    "\n",
    "    # the total cost of the change from one string to the other is in the last element of the last list\n",
    "    chngCost = mylist[-1][-1]\n",
    "\n",
    "    print \"The cost of changing \\\"{0}\\\" to \\\"{1}\\\" is == {2}\".format(ipstr1,ipstr2,chngCost)\n",
    "           \n",
    "\n",
    "if __name__ == '__main__':\n",
    "    demoStrings = [(\"rain\", \"drain\"), (\"doremifaso\", \"domirefaso\"), (\"India\", \"India\"),(\"intention\", \"execution\"), (\"distances\", \"distnaces\")]\n",
    "\n",
    "    for ipstr1, ipstr2 in demoStrings:\n",
    "        fngetMinEditDistance(ipstr1, ipstr2)\n",
    "        print \"\\n\"\n"
   ]
  },
  {
   "cell_type": "code",
   "execution_count": null,
   "metadata": {
    "collapsed": true
   },
   "outputs": [],
   "source": []
  }
 ],
 "metadata": {
  "kernelspec": {
   "display_name": "Python 2",
   "language": "python",
   "name": "python2"
  },
  "language_info": {
   "codemirror_mode": {
    "name": "ipython",
    "version": 2
   },
   "file_extension": ".py",
   "mimetype": "text/x-python",
   "name": "python",
   "nbconvert_exporter": "python",
   "pygments_lexer": "ipython2",
   "version": "2.7.11"
  }
 },
 "nbformat": 4,
 "nbformat_minor": 0
}
