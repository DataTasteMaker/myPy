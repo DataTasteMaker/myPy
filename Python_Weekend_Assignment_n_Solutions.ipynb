{
 "cells": [
  {
   "cell_type": "markdown",
   "metadata": {},
   "source": [
    "* Student Name: Viraj (@dataTasteMaker)\n",
    "* Student Email id: vb.bviraj@gmail.com"
   ]
  },
  {
   "cell_type": "markdown",
   "metadata": {},
   "source": [
    "###  This notebook has some problems and the solutions for the assignment done for the weekend lectures. The notebook will be kept updated with more such solutions"
   ]
  },
  {
   "cell_type": "markdown",
   "metadata": {},
   "source": [
    "<br>     </br>"
   ]
  },
  {
   "cell_type": "markdown",
   "metadata": {},
   "source": [
    "# 1: Mail\n",
    "\n",
    "Create a program that displays your name and complete mailing address formatted in the manner that you would usually see it on the outside of an envelope. Your program does not need to read any input from the user."
   ]
  },
  {
   "cell_type": "code",
   "execution_count": 1,
   "metadata": {
    "collapsed": false
   },
   "outputs": [
    {
     "name": "stdout",
     "output_type": "stream",
     "text": [
      "Mr. DataTasteMaker\n",
      "Address: \n",
      "\tS P Jain School of Global Management\n",
      "\tFirst Floor, Trade Point,\n",
      "\tKamala Mills,\n",
      "\tLower Parel,\n",
      "\tMumbai - 400013\n"
     ]
    }
   ],
   "source": [
    "print(\"Mr. DataTasteMaker\")\n",
    "print(\"Address: \\n\\tS P Jain School of Global Management\\n\\tFirst Floor, Trade Point,\")\n",
    "print(\"\\tKamala Mills,\\n\\tLower Parel,\\n\\tMumbai - 400013\")"
   ]
  },
  {
   "cell_type": "markdown",
   "metadata": {},
   "source": [
    "# 2: Area of the Room\n",
    "\n",
    "Write a program that asks the user to enter the width and length of a room. Once the values have been read, your program should compute and display the area of the room. The length and the width will be entered as floating point numbers. Include units in your prompt and output message; either feet or meters, depending on which unit you are more comfortable working with."
   ]
  },
  {
   "cell_type": "code",
   "execution_count": 2,
   "metadata": {
    "collapsed": false
   },
   "outputs": [
    {
     "name": "stdout",
     "output_type": "stream",
     "text": [
      "Enter the width  of the room in meters: 152\n",
      "Enter the length of the room in meters: 325\n",
      "\n",
      "Area of the room with the (152.0 x 325.0) dimensions = 49400.0\n"
     ]
    }
   ],
   "source": [
    "UNITFLAG_FEET = 0\n",
    "\n",
    "UNITS = \"feet\"\n",
    "if UNITFLAG_FEET == 0: UNITS = \"meters\"\n",
    "\n",
    "width  = float(raw_input(\"Enter the width  of the room in %s: \" %UNITS))\n",
    "length = float(raw_input(\"Enter the length of the room in %s: \" %UNITS))\n",
    "\n",
    "area = width * length\n",
    "area = round(float(area),2)\n",
    "    \n",
    "print \"\\nArea of the room with the (%s x %s) dimensions = %s\" %(width, length, area)"
   ]
  },
  {
   "cell_type": "markdown",
   "metadata": {},
   "source": [
    "# 3: Compound Interest\n",
    "\n",
    "Pretend that you have just opened a new savings account that earns 4 percent interest per year. The interest that you earn is paid at the end of the year, and is added to the balance of the savings account. Write a program that begins by reading the amount of money deposited into the account from the user. Then your program should compute and display the amount in the savings account after 1, 2, and 3 years. Display each amount so that it is rounded to 2 decimal places."
   ]
  },
  {
   "cell_type": "code",
   "execution_count": 3,
   "metadata": {
    "collapsed": false
   },
   "outputs": [
    {
     "name": "stdout",
     "output_type": "stream",
     "text": [
      "*******************************************************************\n",
      "\n",
      "Dear Account Holder,\n",
      "\n",
      "Welcome to the SUPER SAVER BANK! \n",
      "\n",
      "*******************************************************************\n",
      "\n",
      "Enter the amount of money deposited: 1540\n",
      "Year\tAmount\n",
      "   1\t1601.60 @ 0.04\n",
      "   2\t1665.66 @ 0.04\n",
      "   3\t1732.29 @ 0.04\n"
     ]
    }
   ],
   "source": [
    "print (\"*******************************************************************\")\n",
    "print (\"\\nDear Account Holder,\\n\\nWelcome to the SUPER SAVER BANK! \\n\")\n",
    "print (\"*******************************************************************\\n\")\n",
    "\n",
    "principal = float(raw_input(\"Enter the amount of money deposited: \"))\n",
    "rate = 4.0/100.0         # interest rate\n",
    "\n",
    "print \"Year\\tAmount\"\n",
    "\n",
    "for year in range(1,4):\n",
    "   amount = principal * ( 1.0 + rate ) ** year\n",
    "   print \"%4d\\t%4.2f @ %s\" % ( year, amount, rate )"
   ]
  },
  {
   "cell_type": "markdown",
   "metadata": {},
   "source": [
    "# 4: Duration in seconds\n",
    "\n",
    "Create a program that reads a duration from the user as a number of days, hours, minutes, and seconds. Compute and display the total number of seconds represented by this duration."
   ]
  },
  {
   "cell_type": "code",
   "execution_count": 4,
   "metadata": {
    "collapsed": false
   },
   "outputs": [
    {
     "name": "stdout",
     "output_type": "stream",
     "text": [
      "Enter number of,days, :-2\n",
      "Enter number of,hours, :-1\n",
      "Enter number of,minutes, :-5\n",
      "Enter number of,seconds, :-10\n",
      "2 day(s), 1 hour(s) , 5 min(s) , 10 sec(s) -- is total 176710 seconds\n"
     ]
    }
   ],
   "source": [
    "try:\n",
    "    i = 0\n",
    "    iplist = []\n",
    "    mylist = [\" \",\"days\",\"hours\",\"minutes\",\"seconds\"]\n",
    "    while i < 4:\n",
    "        i += 1\n",
    "        ipmsg = \"Enter number of\", mylist[i],\" :-\"\n",
    "        ipN = int(raw_input(ipmsg))\n",
    "        iplist.append(ipN)\n",
    "except:\n",
    "    print \"Error!!\\n Please try again!\"\n",
    "else:\n",
    "    finalVal = 0\n",
    "    finalVal = (finalVal + iplist[0]) * 24 # 1 day = 24 hrs\n",
    "    finalVal = (finalVal + iplist[1]) * 60 # 1 hr = 60 mins\n",
    "    finalVal = (finalVal + iplist[2]) * 60 # 1 min = 60 secs\n",
    "    finalVal = (finalVal + iplist[3])\t   # 1 min = 60 secs\n",
    "    \n",
    "    \n",
    "    print \"%s day(s), %s hour(s) , %s min(s) , %s sec(s) -- is total %s seconds\"%(iplist[0],iplist[1],iplist[2],iplist[3],finalVal)"
   ]
  },
  {
   "cell_type": "markdown",
   "metadata": {},
   "source": [
    "# 5: Current Time\n",
    "\n",
    "Python includes a library of functions for working with time, including a function called asctime in the time module. It reads the current time from the computer’s internal clock and returns it in a human-readable format. Write a program\n",
    "that displays the current time and date. Your program will not require any input from the user."
   ]
  },
  {
   "cell_type": "code",
   "execution_count": 6,
   "metadata": {
    "collapsed": false
   },
   "outputs": [
    {
     "name": "stdout",
     "output_type": "stream",
     "text": [
      "Using datetime from datetime module == 2016-03-15 08:35:45.601286\n",
      "Using ctime() from time module == Tue Mar 15 08:35:45 2016\n",
      "Using asctime from the time module == Tue Mar 15 08:35:45 2016 \n"
     ]
    }
   ],
   "source": [
    "import datetime\n",
    "from time import ctime\n",
    "import time\n",
    "\n",
    "t = datetime.datetime.now()\n",
    "\n",
    "print \"Using datetime from datetime module == %s\" %t\n",
    "\n",
    "print \"Using ctime() from time module == %s\" %ctime()\n",
    "\n",
    "t = time.localtime()\n",
    "print \"Using asctime from the time module == %s \" % time.asctime(t)"
   ]
  },
  {
   "cell_type": "markdown",
   "metadata": {},
   "source": [
    "# 6: Sum of Digits\n",
    "\n",
    "Develop a program that reads a four-digit integer from the user and displays the sum of the digits in the number. For example, if the user enters 3141 then your program should display 3 + 1 + 4 + 1 = 9."
   ]
  },
  {
   "cell_type": "code",
   "execution_count": 7,
   "metadata": {
    "collapsed": false
   },
   "outputs": [
    {
     "name": "stdout",
     "output_type": "stream",
     "text": [
      "Enter a 4-digit number : 3141\n",
      "The sum of all the digits of 3141 is = 9\n"
     ]
    }
   ],
   "source": [
    "try:\n",
    "    ipnum = int(raw_input(\"Enter a 4-digit number : \"))\n",
    "    if (ipnum > 9999): raise Exception\n",
    "except ValueError, Exception:\n",
    "    if (ipnum > 9999):\n",
    "        print \"\\n Error!! \\n Invalid Input! \\n *** Please enter a 4-digit number. ***\"\n",
    "    else:\n",
    "        print(\"\\n Error!! \\n Invalid Input! \\n *** Please enter correct number. ***\")\n",
    "else:\n",
    "    tot = sum(int(digit) for digit in str(ipnum))\n",
    "    print \"The sum of all the digits of %04d is = %s\" %(ipnum,tot)"
   ]
  },
  {
   "cell_type": "markdown",
   "metadata": {},
   "source": [
    "# 7: Sort 3 integers\n",
    "\n",
    "Create a program that reads three integers from the user and displays them in sorted order (from smallest to largest). Use the min and max functions to find the smallest and largest values. The middle value can be found by computing the sum of all three values, and then subtracting the minimum value and the maximum value."
   ]
  },
  {
   "cell_type": "code",
   "execution_count": 8,
   "metadata": {
    "collapsed": false
   },
   "outputs": [
    {
     "name": "stdout",
     "output_type": "stream",
     "text": [
      "Enter the 1st number: 9\n",
      "Enter the 2nd number: 2\n",
      "Enter the 3th number: 88\n",
      "The sorted list =  2 9 88\n"
     ]
    }
   ],
   "source": [
    "def getword(num):\n",
    "    if str(num)[-1] == '1':\n",
    "        return \"st\"\n",
    "    elif str(num)[-1] == '2':\n",
    "        return \"nd\"\n",
    "    else:\n",
    "        return \"th\"\n",
    "\n",
    "try:\n",
    "    i = 0\n",
    "    mylst = []\n",
    "    while i < 3:\n",
    "        i += 1\n",
    "        msg = \"Enter the %s%s number: \"%(i,getword(i))\n",
    "        ipA = int(raw_input(msg))\n",
    "        mylst.append(ipA)\n",
    "except:\n",
    "    print \"Error\"\n",
    "else:\n",
    "    min_num = min(mylst)\n",
    "    max_num = max(mylst)\n",
    "    mid_num = sum(mylst) - min_num - max_num\n",
    "    print \"The sorted list = \",min_num, mid_num, max_num\n",
    "    "
   ]
  },
  {
   "cell_type": "markdown",
   "metadata": {},
   "source": [
    "# 8: Dog Years\n",
    "\n",
    "It is commonly said that one human year is equivalent to 7 dog years. However this simple conversion fails to recognize that dogs reach adulthood in approximately two years. As a result, some people believe that it is better to count each of the first two human years as 10.5 dog years, and then count each additional human year as 4 dog years.\n",
    "\n",
    "Write a program that implements the conversion from human years to dog years described in the previous paragraph. Ensure that your program works correctly for conversions of less than two human years and for conversions of two or more human\n",
    "years. Your program should display an appropriate error message if the user enters a negative number."
   ]
  },
  {
   "cell_type": "code",
   "execution_count": 9,
   "metadata": {
    "collapsed": false
   },
   "outputs": [
    {
     "name": "stdout",
     "output_type": "stream",
     "text": [
      "Please enter your age: 40\n",
      "You are 173.0 dog years old\n"
     ]
    }
   ],
   "source": [
    "ipmsg = \"Please enter your age: \"\n",
    "ipAge = int(raw_input(ipmsg))\n",
    "\n",
    "t = ipAge - 2\n",
    "\n",
    "dogyears = (2 * 10.5)\n",
    "dogyears = dogyears + (t *4)\n",
    "\n",
    "print \"You are %s dog years old\" %dogyears\n",
    "dogyears = 0\n",
    "\n",
    "for i in range(1,ipAge+1):\n",
    "    if i < 3:\n",
    "        offset = 10.5 \n",
    "    else:\n",
    "        offset = 4\n",
    "    dogyears += offset\n",
    "    #print i, dogyears"
   ]
  },
  {
   "cell_type": "markdown",
   "metadata": {},
   "source": [
    "# 9: Name that Triangle\n",
    "\n",
    "A triangle can be classified based on the lengths of its sides as equilateral, isosceles or scalene. All 3 sides of an equilateral triangle have the same length. An isosceles triangle has two sides that are the same length, and a third side that is a different length. If all of the sides have different lengths then the triangle is scalene. Write a program that reads the lengths of 3 sides of a triangle from the user. Display a message indicating the type of the triangle."
   ]
  },
  {
   "cell_type": "code",
   "execution_count": 10,
   "metadata": {
    "collapsed": false,
    "scrolled": true
   },
   "outputs": [
    {
     "name": "stdout",
     "output_type": "stream",
     "text": [
      "Enter the length of 1st side: 45\n",
      "Enter the length of 2nd side: 90\n",
      "Enter the length of 3rd side: 44\n",
      "\n",
      "The triangle is **** scalene ****.\n"
     ]
    }
   ],
   "source": [
    "def getword(num):\n",
    "    if str(num)[-1] == \"1\":\n",
    "        return \"st\"\n",
    "    elif str(num)[-1] == \"2\":\n",
    "        return \"nd\"\n",
    "    elif str(num)[-1] == \"3\":\n",
    "        return \"rd\"    \n",
    "    else:\n",
    "        return \"th\"\n",
    "\n",
    "try:\n",
    "    i = 0\n",
    "    mylst = []\n",
    "    while i < 3:\n",
    "        i += 1\n",
    "        msg = \"Enter the length of %s%s side: \"%(i,getword(i))\n",
    "        ipA = int(raw_input(msg))\n",
    "        mylst.append(ipA)\n",
    "except:\n",
    "    print \"Error\"\n",
    "else:\n",
    "    triangleType = lambda s1, s2, s3 : {0: \"scalene\", 1: \"isoceles\", 3: \"equilateral\"} [(s1 == s2) + (s1 == s3) + (s2 == s3)]\n",
    "    print(\"\\nThe triangle is **** %s ****.\" % triangleType(mylst[0],mylst[1],mylst[2]))"
   ]
  },
  {
   "cell_type": "markdown",
   "metadata": {},
   "source": [
    "# 10: Temperature Conversion Table\n",
    "\n",
    "Write a program that displays a temperature conversion table for degrees Celsius and degrees Fahrenheit. The table should include rows for all temperatures between 0 and 100 degrees Celsius that are multiples of 10 degrees Celsius. Include appropriate headings on your columns. The formula for converting between degrees Celsius and degrees Fahrenheit can be found on the internet."
   ]
  },
  {
   "cell_type": "code",
   "execution_count": 11,
   "metadata": {
    "collapsed": false
   },
   "outputs": [
    {
     "name": "stdout",
     "output_type": "stream",
     "text": [
      "   Celsius  Fahrenheit\n",
      "0       10          50\n",
      "1       20          68\n",
      "2       30          86\n",
      "3       40         104\n",
      "4       50         122\n",
      "5       60         140\n",
      "6       70         158\n",
      "7       80         176\n",
      "8       90         194\n",
      "9      100         212\n"
     ]
    }
   ],
   "source": [
    "# celsius = (fahrenheit - 32) / 1.8\n",
    "# fahrenheit = (celsius * 1.8) + 32\n",
    "\n",
    "import pandas as pd\n",
    "\n",
    "s = pd.Series(range(10,110,10))\n",
    "f = (s * 1.8) + 32\n",
    "tbl = pd.DataFrame({'Celsius':s,'Fahrenheit':f}, columns = ['Celsius','Fahrenheit'])\n",
    "print tbl"
   ]
  },
  {
   "cell_type": "markdown",
   "metadata": {},
   "source": [
    "# 11: Parity Bits\n",
    "\n",
    "A parity bit is a simple mechanism for detecting errors in data transmitted over an unreliable connection such as a telephone line. The basic idea is that an additional bit is transmitted after each group of 8 bits so that a single bit error in the transmission can be detected.\n",
    "\n",
    "Parity bits can be computed for either even parity or odd parity. If even parity is selected then the parity bit that is transmitted is chosen so that the total number of one bits transmitted (8 bits of data plus the parity bit) is even. When odd parity is selected the parity bit is chosen so that the total number of one bits transmitted is odd.\n",
    "\n",
    "Write a program that computes the parity bit for groups of 8 bits entered by the user using even parity. Your program should read strings containing 8 bits until the user enters a blank line. After each string is entered by the user your program should display a clear message indicating whether the parity bit should be 0 or 1. Display an appropriate error message if the user enters something other than 8 bits.\n",
    "\n",
    "Hint: You should read the input from the user as a string. Then you can use the count method to help you determine the number of zeros and ones in the string. Information about the count method is available online."
   ]
  },
  {
   "cell_type": "code",
   "execution_count": 12,
   "metadata": {
    "collapsed": false
   },
   "outputs": [
    {
     "name": "stdout",
     "output_type": "stream",
     "text": [
      "\n",
      " Enter 8 bits (e.g. 11110000): 10101110\n",
      "  0  is the parity bit to be transmitter\n",
      "\n",
      " *** Enter x to exit: \n",
      "\n",
      " Enter 8 bits (e.g. 11110000): x\n",
      "Error!! Please Try again.\n",
      "\n",
      " *** Enter x to exit: \n"
     ]
    }
   ],
   "source": [
    "ipmsg = \"\\n Enter 8 bits (e.g. 11110000): \"\n",
    "ipstr = \"\"\n",
    "while ipstr.lower() != \"x\":\n",
    "    ipstr = str(raw_input(ipmsg))\n",
    "    if (((ipstr.count(\"1\") + ipstr.count(\"0\")) != 8) or (len(ipstr) != 8)):\n",
    "        print \"Error!! Please Try again.\\n\\n *** Enter x to exit: \"\n",
    "    else:\n",
    "        cntOne = ipstr.count(\"1\")\n",
    "        print \" \", int(cntOne % 2  == 0), \" is the parity bit to be transmitter\\n\\n *** Enter x to exit: \""
   ]
  },
  {
   "cell_type": "markdown",
   "metadata": {},
   "source": [
    "# 12: Square root\n",
    "\n",
    "Write a program that implements Newton’s method to compute and display the square root of a number entered by the user. The algorithm for Newton’s method follows:\n",
    "\n",
    "    Read x from the user\n",
    "        Initialize guess to x/2\n",
    "        While guess is not good enough do\n",
    "            Update guess to be the average of guess and x/guess\n",
    "        \n",
    "When this algorithm completes, guess contains an approximation of the square root. The quality of the approximation depends on how you define “good enough”. Example: a solution is good enough when the absolute value\n",
    "of the difference between (guess ∗ guess) and x was less than or equal to 10^(−12) .\n"
   ]
  },
  {
   "cell_type": "code",
   "execution_count": 13,
   "metadata": {
    "collapsed": false
   },
   "outputs": [
    {
     "name": "stdout",
     "output_type": "stream",
     "text": [
      " Enter a number to find the squareroot using Newton's method: 169\n",
      "The squareroot of  169.0  is  13.0\n"
     ]
    }
   ],
   "source": [
    "\n",
    "def fnNewtonSqrt(x):\n",
    "    guess = x / 2\n",
    "\n",
    "    while (abs((guess * guess) - x) >= 0.0000000000001):\n",
    "        guess = (guess + x/guess) / 2\n",
    "    return guess\n",
    "\n",
    "\n",
    "if __name__ == '__main__':\n",
    "    ipmsg = \" Enter a number to find the squareroot using Newton's method: \"\n",
    "\n",
    "    try:\n",
    "        ipnum = float(raw_input(ipmsg))\n",
    "    except:\n",
    "        print \"Error!! \\n Please enter a valid number\"\n",
    "    else:\n",
    "        print \"The squareroot of \",ipnum,\" is \", fnNewtonSqrt(ipnum)"
   ]
  },
  {
   "cell_type": "markdown",
   "metadata": {},
   "source": [
    "# 13: Palindrome\n",
    "\n",
    "A string is a palindrome if it is identical forward and backward. For example “anna”, “civic”, “level” and “hannah” are all examples of palindromic words. Write a program that reads a string from the user and uses a loop to determines whether or not it is a palindrome. Display the result, including a meaningful output message."
   ]
  },
  {
   "cell_type": "code",
   "execution_count": 14,
   "metadata": {
    "collapsed": false
   },
   "outputs": [
    {
     "name": "stdout",
     "output_type": "stream",
     "text": [
      "Please enter a Sring: \n",
      "malayalam\n",
      "\n",
      "malayalam = Is Palindrome\n",
      " \n"
     ]
    }
   ],
   "source": [
    "# ****** Function Definition Starts\n",
    "\n",
    "# Create a function to find Palindrome word in a Sentence\n",
    "def IsPalindrome(ip_txt):\n",
    "    txtLen = len(ip_txt)        # Find the text length\n",
    "    ip_txt = ip_txt.lower()     # Convert the text in lower case to compare it easily as the comparison is case sensitive\n",
    "    chkPalin = \"Is Palindrome\"  # Just a flag, set to default as \"Is Palindrome\"\n",
    "\n",
    "    i = 0 # set a counter\n",
    "    while(i < txtLen / 2 + 1): #iterate to half of the string, no need to check all the characters\n",
    "            # compare the first and the last characters, if anytime not equal then break the loop and flag it as \"Not a Palindrome\"\n",
    "            if (ip_txt[i] != ip_txt[txtLen - i - 1]):\n",
    "                chkPalin = \"Not a Palindrome\"\n",
    "            break\n",
    "            i = i + 1\n",
    "    return chkPalin\n",
    "# ****** Function Definition Ends\n",
    "# *******************************************************\n",
    "\n",
    "#example string: madam is teaching anna malayalam language today\n",
    "\n",
    "print 'Please enter a Sring: '\n",
    "strtext = raw_input()\n",
    "print ''\n",
    "# Split the sentence with a delimiter as space and pass each word to check if the word is palindrome or not\n",
    "temp = strtext.split(\" \")\n",
    "\n",
    "i = 0\n",
    "while (i < len(temp)):\n",
    "    print(str(temp[i]) + ' = ' + str(IsPalindrome(temp[i])))\n",
    "    print ' '\n",
    "    i = i + 1"
   ]
  },
  {
   "cell_type": "markdown",
   "metadata": {},
   "source": [
    "# 14: Median of three values\n",
    "\n",
    "Write a function that takes three numbers as parameters, and returns the median value of those parameters as its result. Include a main program that reads three values from the user and displays their median."
   ]
  },
  {
   "cell_type": "code",
   "execution_count": 15,
   "metadata": {
    "collapsed": false
   },
   "outputs": [
    {
     "name": "stdout",
     "output_type": "stream",
     "text": [
      "Enter the 1st number: 8\n",
      "Enter the 2nd number: 99\n",
      "Enter the 3th number: 4\n",
      "The median of the 3 numbers =  8\n"
     ]
    }
   ],
   "source": [
    "def getword(num):\n",
    "    if str(num)[-1] == '1':\n",
    "        return \"st\"\n",
    "    elif str(num)[-1] == '2':\n",
    "        return \"nd\"\n",
    "    else:\n",
    "        return \"th\"\n",
    "\n",
    "def getmedian(mylst):\n",
    "    return sorted(mylst)[1]\n",
    "\n",
    "try:\n",
    "    i = 0\n",
    "    mylst = []\n",
    "    while i < 3:\n",
    "        i += 1\n",
    "        msg = \"Enter the %s%s number: \"%(i,getword(i))\n",
    "        ipA = int(raw_input(msg))\n",
    "        mylst.append(ipA)\n",
    "except:\n",
    "    print \"Error\"\n",
    "else:\n",
    "    print \"The median of the 3 numbers = \",getmedian(mylst)\n"
   ]
  },
  {
   "cell_type": "markdown",
   "metadata": {},
   "source": [
    "# 15: Capitalize it\n",
    "\n",
    "Many people do not use capital letters correctly, especially when typing on small devices like smart phones. In this exercise, you will write a function that capitalizes the appropriate characters in a string. A lowercase “i” should be replaced with an uppercase “I” if it is both preceded and followed by a space. The first character in the string should also be capitalized, as well as the first non-space character after a “.”, “!” or “?”. For example, if the function is provided with the string “what time do i have to be there? what’s the address?” then it should return the string “What\n",
    "time do I have to be there? What’s the address?”. Include a main program that reads a string from the user, capitalizes it using your function, and displays the result."
   ]
  },
  {
   "cell_type": "code",
   "execution_count": 16,
   "metadata": {
    "collapsed": false
   },
   "outputs": [
    {
     "name": "stdout",
     "output_type": "stream",
     "text": [
      "Enter a string to capitalize: what time do i have to come? what is the location?\n",
      "The capitalized string is :- \n",
      "What time do I have to come? What is the location?\n"
     ]
    }
   ],
   "source": [
    "# need to work on the scenario where \"i\" is followed by ?,! or .\n",
    "def fncapitalize(ipstr):\n",
    "    opstr = \"\"\n",
    "    opstr = ipstr.replace(\" i \", \" I \")\n",
    "\n",
    "    if len(opstr) > 0:\n",
    "        opstr = opstr[0].upper() + opstr[1:len(opstr)]\n",
    "        i = 0\n",
    "\n",
    "        while i < len(opstr):\n",
    "            if opstr[i] == \".\" or opstr[i] == \"!\" or opstr[i] == \"?\":\n",
    "                i = i + 1\n",
    "                while i < len(opstr) and opstr[i] == \" \":\n",
    "                    i = i + 1\n",
    "                    opstr = opstr[0: i] + opstr[i].upper() + opstr[i + 1 : len(opstr)]\n",
    "            i = i + 1\n",
    "    return opstr\n",
    "\n",
    "if __name__ == \"__main__\":\n",
    "    ipmsg = \"Enter a string to capitalize: \"\n",
    "    ipstr = raw_input(ipmsg)\n",
    "    print \"The capitalized string is :- \\n%s\"%fncapitalize(ipstr)\n"
   ]
  },
  {
   "cell_type": "markdown",
   "metadata": {},
   "source": [
    "# 16: Does a String Represent an Integer?\n",
    "\n",
    "In this exercise you will write a function named isInteger that determines whether or not the characters in a string represent a valid integer. When determining if a string represents an integer you should ignore any leading or trailing white space. Once this white space is ignored, a string represents an integer if its length is at least 1 and it only contains digits, or if its first character is either + or - and the first character is followed by one or more characters, all of which are digits.\n",
    "\n",
    "Write a main program that reads a string from the user and reports whether or not it represents an integer. Ensure that the main program will not run if the file containing your solution is imported into another program.\n",
    "\n",
    "Hint: You may find the lstrip, rstrip and/or strip methods for strings helpful when completing this exercise. Documentation for these methods is available online."
   ]
  },
  {
   "cell_type": "code",
   "execution_count": 17,
   "metadata": {
    "collapsed": false
   },
   "outputs": [
    {
     "name": "stdout",
     "output_type": "stream",
     "text": [
      "Enter a string to check if it has integers or not : 789\n",
      "The string entered has integers\n"
     ]
    }
   ],
   "source": [
    "def isInteger(ipstr):\n",
    "    opstr = ipstr.strip()\n",
    "\n",
    "    if ((opstr[0] == \"+\" or opstr[0] == \"-\") and opstr[1:].isdigit()):\n",
    "        return True\n",
    "    if opstr.isdigit():\n",
    "        return True\n",
    "    return False\n",
    "\n",
    "if __name__ == \"__main__\":\n",
    "    ipmsg = \"Enter a string to check if it has integers or not : \"\n",
    "    ipstr = raw_input(ipmsg)\n",
    "    if isInteger(ipstr):\n",
    "        print \"The string entered has integers\"\n",
    "    else:\n",
    "        print \"The string entered does not have integers\""
   ]
  },
  {
   "cell_type": "markdown",
   "metadata": {},
   "source": [
    "# 17: Next Prime\n",
    "\n",
    "In this exercise you will create a function named nextPrime that finds and returns the first prime number larger than some integer, n. The value of n will be passed to the function as its only parameter. Include a main program that reads an integer from the user and displays the first prime number larger than the entered value."
   ]
  },
  {
   "cell_type": "code",
   "execution_count": 18,
   "metadata": {
    "collapsed": false
   },
   "outputs": [
    {
     "name": "stdout",
     "output_type": "stream",
     "text": [
      "Enter a number to find the next prime number : 15\n",
      "The next prime number after 15 is  17\n"
     ]
    }
   ],
   "source": [
    "def fnNextPrime(n):\n",
    "    nxtNum = n + 1\n",
    "    while True:\n",
    "        for i in  range(2, nxtNum):\n",
    "            if nxtNum % i == 0:\n",
    "                break\n",
    "            else:\n",
    "                return nxtNum\n",
    "                break\n",
    "        nxtNum = nxtNum + 1\n",
    "\n",
    "if __name__ == '__main__':\n",
    "    try:\n",
    "        ipmsg = \"Enter a number to find the next prime number : \"\n",
    "        ipnum = int(raw_input(ipmsg))\n",
    "    except:\n",
    "        print \"Error! Please try again\"\n",
    "    else:\n",
    "        print \"The next prime number after\", ipnum, \"is \", fnNextPrime(ipnum)"
   ]
  },
  {
   "cell_type": "markdown",
   "metadata": {},
   "source": [
    "# 18: Sorted Order\n",
    "\n",
    "Write a program that reads integers from the user and stores them in a list. Your program should continue reading values until the user enters 0. Then it should display all of the values entered by the user (except for the 0) in order from smallest to largest, with one value appearing on each line. Use either the sort method or the sorted function to sort the list."
   ]
  },
  {
   "cell_type": "code",
   "execution_count": 19,
   "metadata": {
    "collapsed": false
   },
   "outputs": [
    {
     "name": "stdout",
     "output_type": "stream",
     "text": [
      " Enter a number to store in list (-1 to Exit): 8\n",
      " Enter a number to store in list (-1 to Exit): 9\n",
      " Enter a number to store in list (-1 to Exit): 0\n",
      " Enter a number to store in list (-1 to Exit): 66\n",
      " Enter a number to store in list (-1 to Exit): 7789\n",
      " Enter a number to store in list (-1 to Exit): 0\n",
      " Enter a number to store in list (-1 to Exit): 2\n",
      " Enter a number to store in list (-1 to Exit): 3\n",
      " Enter a number to store in list (-1 to Exit): 6\n",
      " Enter a number to store in list (-1 to Exit): -1\n",
      "The list of numbers you entered :-  [8, 9, 0, 66, 7789, 0, 2, 3, 6]\n",
      "The list of numbers you entered now SORTED :-  [0, 0, 2, 3, 6, 8, 9, 66, 7789]\n"
     ]
    }
   ],
   "source": [
    "if __name__ == '__main__':\n",
    "    ipmsg = \" Enter a number to store in list (-1 to Exit): \"\n",
    "    mylist = []\n",
    "    try:\n",
    "        ipnum = int(raw_input(ipmsg))\n",
    "        while ipnum != -1 :\n",
    "            mylist.append(ipnum)\n",
    "            ipnum = int(raw_input(ipmsg))   \n",
    "    except:\n",
    "        print \"Error! \\n Please enter only numbers.\"\n",
    "    else:\n",
    "        print \"The list of numbers you entered :- \", mylist\n",
    "        mylist.sort()\n",
    "        print \"The list of numbers you entered now SORTED :- \", mylist"
   ]
  },
  {
   "cell_type": "markdown",
   "metadata": {},
   "source": [
    "# 19: Remove Outliers\n",
    "\n",
    "When analysing data collected as part of a science experiment it may be desirable to remove the most extreme values before performing other calculations. Write a function that takes a list of values and an non-negative integer, n, as its parameters. The function should create a new copy of the list with the n largest elements and the n smallest elements removed. Then it should return the new copy of the list as the function’s only result. The order of the elements in the returned list does not have to match the order of the elements in the original list.\n",
    "\n",
    "Write a main program that demonstrates your function. Your function should read a list of numbers (as input) and remove the two largest and two smallest values from it. Display the list with the outliers removed, followed by the original list. Your program should generate an appropriate error message if the user enters less than 4 values."
   ]
  },
  {
   "cell_type": "code",
   "execution_count": 23,
   "metadata": {
    "collapsed": false
   },
   "outputs": [
    {
     "name": "stdout",
     "output_type": "stream",
     "text": [
      "\n",
      " Enter the data (numbers): 1\n",
      "\n",
      " Enter the data (numbers): 2\n",
      "\n",
      " Enter the data (numbers): 3\n",
      "\n",
      " Enter the data (numbers): 4\n",
      "\n",
      " Enter the data (numbers): 5\n",
      "\n",
      " Enter the data (numbers): 6\n",
      "\n",
      " Enter the data (numbers): 7\n",
      "\n",
      " Enter the data (numbers): 8\n",
      "\n",
      " Enter the data (numbers): 9\n",
      "\n",
      " Enter the data (numbers): x\n",
      "\n",
      " Original list: [1.0, 2.0, 3.0, 4.0, 5.0, 6.0, 7.0, 8.0, 9.0]\n",
      "\n",
      " The list post removing the Outliers: \n",
      "[3.0, 4.0, 5.0, 6.0, 7.0]\n"
     ]
    }
   ],
   "source": [
    "def fnRemoveOutlier(mylist, n):\n",
    "    oplist = sorted(mylist)\n",
    "    for i in range(n):\n",
    "        oplist.pop()\n",
    "        oplist.pop(0)\n",
    "\n",
    "    return oplist\n",
    "\n",
    "def main():\n",
    "    mylist = []\n",
    "    ipmsg = \"\\n Enter the data (numbers): \"\n",
    "    \n",
    "    ipnum = raw_input(ipmsg)\n",
    "\n",
    "    while ipnum != \"x\":\n",
    "        num = float(ipnum)\n",
    "        mylist.append(num)\n",
    "        ipnum = raw_input(ipmsg)\n",
    "\n",
    "    tmplist = sorted(mylist)\n",
    "    print \"\\n Original list:\", tmplist\n",
    "\n",
    "    print \"\\n The list post removing the Outliers: \\n\", fnRemoveOutlier(tmplist,2)\n",
    "\n",
    "main()"
   ]
  },
  {
   "cell_type": "markdown",
   "metadata": {},
   "source": [
    "# 20: Only the words\n",
    "\n",
    "In this exercise you will create a program that identifies all of the words in a string entered by the user. Begin by writing a function that takes a string of text as its only parameter. Your function should return a list of the words in the string with the punctuation marks at the edges of the words removed. The punctuation marks that you must remove include commas, periods, question marks, hyphens, apostrophes, exclamation points, colons, and semicolons. Do not remove punctuation marks that appear in the middle of a words, such as the apostrophes used to form a contraction. For example, if your function is provided with the string \"Examples of contractions include: don’t, isn’t, and wouldn’t.\" then your function should return the list [\"Examples\", \"of\", \"contractions\", \"include\", \"don’t\", \"isn’t\", \"and\", \"wouldn’t\"].\n",
    "\n",
    "Write a main program that demonstrates your function. It should take a string as an input and display all of the words in the string with the punctuation marks removed. You should ensure that your main program only runs when your file has not been imported into another program."
   ]
  },
  {
   "cell_type": "code",
   "execution_count": 24,
   "metadata": {
    "collapsed": false
   },
   "outputs": [
    {
     "name": "stdout",
     "output_type": "stream",
     "text": [
      "The cleaned string, stripped off all the punctuation marks is:-- \n",
      "\n",
      " Examples of contractions include: don't isn't and wouldn't\n"
     ]
    }
   ],
   "source": [
    "\n",
    "ipstr = \"Examples! of contractions? include: don't, isn't, and wouldn't.\"\n",
    "\n",
    "ipstr = ipstr.replace(\"'t\",\"|t\")    # a small work-around for controlling contractions \n",
    "punctuations = \",.?-'!\"             # list of punctuation characters as per problem statement, in general there are many more\n",
    "\n",
    "# Generally the list of punctuation characters include - \"\"\"!()-[]{};:'\"\\,<>./?@#$%^&*_~\"\"\"\n",
    "\n",
    "cleanStr = \"\"\n",
    "for c in ipstr:\n",
    "   if c not in punctuations:\n",
    "       cleanStr = cleanStr + c\n",
    "\n",
    "cleanStr = cleanStr.replace(\"|t\",\"'t\")\n",
    "\n",
    "print \"The cleaned string, stripped off all the punctuation marks is:-- \\n\\n %s\" %cleanStr"
   ]
  },
  {
   "cell_type": "markdown",
   "metadata": {},
   "source": [
    "# 21: Unique Characters\n",
    "\n",
    "Create a program that determines and displays the number of unique characters in a string input. For example, Hello, World! has 10 unique characters while zzz has only one unique character. Use a dictionary or set to solve this problem."
   ]
  },
  {
   "cell_type": "code",
   "execution_count": 25,
   "metadata": {
    "collapsed": false
   },
   "outputs": [
    {
     "name": "stdout",
     "output_type": "stream",
     "text": [
      "Please enter a string: \n",
      "\n",
      "\n",
      "The string used = the quick brown fox jumps over lazy dog\n",
      "The list with unique characters --- [' ', 'a', 'c', 'b', 'e', 'd', 'g', 'f', 'i', 'h', 'k', 'j', 'm', 'l', 'o', 'n', 'q', 'p', 's', 'r', 'u', 't', 'w', 'v', 'y', 'x', 'z']\n",
      "\n",
      "\n",
      " Execution done\n"
     ]
    }
   ],
   "source": [
    "print 'Please enter a string: '\n",
    "strTxt = raw_input()\n",
    "\n",
    "print ''\n",
    "\n",
    "if strTxt == \"\":\n",
    "    strTxt = \"The quick brown fox jumps over lazy dog\"\n",
    "\n",
    "#initialise the dictionary to null\n",
    "myDict = {}\n",
    "\n",
    "strTxt = strTxt.lower() # convert the string to lower case for easy comparision\n",
    "\n",
    "print \"The string used = \" + str(strTxt)\n",
    "\n",
    "for char in strTxt: # loop on each character in the string\n",
    "    if char not in myDict.keys(): #if the current character is not already in my Dictionary then add it\n",
    "        myDict[char] = 1\n",
    "    else: #if the current character is already in my Dictionary then add increment the count\n",
    "        myDict[char] = myDict[char] + 1\n",
    "\n",
    "#print myDict\n",
    "uniquelist = []\n",
    "\n",
    "for key in myDict.keys():\n",
    "\t\tuniquelist.append(key)\n",
    "\n",
    "print \"The list with unique characters --- \" + str(uniquelist)\n",
    "print ''\n",
    "print ''\n",
    "print \" Execution done\"\n",
    "\n"
   ]
  },
  {
   "cell_type": "markdown",
   "metadata": {},
   "source": [
    "# 23: Display the head of a file\n",
    "\n",
    "Unix-based operating systems usually include a tool named head. It displays the first 10 lines of a file whose name is provided as a command line parameter. Write a Python program that provides the same behavior. Display an appropriate error message if the file requested by the user does not exist or if the command line parameter is omitted."
   ]
  },
  {
   "cell_type": "code",
   "execution_count": 1,
   "metadata": {
    "collapsed": false
   },
   "outputs": [
    {
     "name": "stdout",
     "output_type": "stream",
     "text": [
      "How many lines you want to read: 5\n",
      "line1: So far we’ve encountered two ways of writing values: expression statements and the print statement. (A third way is using the write() \n",
      "\n",
      "line2: offile objects; the standard output file can be referenced as sys.stdout. See the Library Reference for more information on this.)\n",
      "\n",
      "line3: Often you’ll want more control over the formatting of your output than simply printing space-separated values. There are two ways to\n",
      "\n",
      "line4: output; the first way is to do all the string handling yourself; using string slicing and concatenation operations you can create any can\n",
      "\n",
      "line5: imagine. The string types have some methods that perform useful operations for padding strings to a given column width; these will be\n",
      "\n"
     ]
    }
   ],
   "source": [
    "try:\n",
    "    ipFileName = open(\"./datasets/newfile.txt\", \"r\")\n",
    "except IOError:\n",
    "    print (\"\\n ERROR!!! **** File not found **** \")\n",
    "else:\n",
    "    try:\n",
    "        head = int(raw_input(\"How many lines you want to read: \"))\n",
    "    except:\n",
    "        print (\"\\n ERROR!!! **** Enter a valid number *** \\n\")\n",
    "    else: \n",
    "        i = 0 \n",
    "        for line in ipFileName:\n",
    "            i += 1\n",
    "            if i > head:\n",
    "                break\n",
    "            else:\n",
    "                print(line)"
   ]
  },
  {
   "cell_type": "markdown",
   "metadata": {},
   "source": [
    "# 26: Greatest Common Divisor\n",
    "\n",
    "Euclid was a Greek mathematician who lived approximately 2,300 years ago. His algorithm for computing the greatest common divisor of two positive integers, a and b, is both efficient and recursive. It is outlined below:\n",
    "\n",
    "    If b is 0 then\n",
    "        Return a\n",
    "    Else\n",
    "        Set c equal to the remainder when a is divided by b\n",
    "        Return the greatest common divisor of b and c\n",
    "        \n",
    "Write a program that implements Euclid’s algorithm and uses it to determine the greatest common divisor of two integers given as parameter."
   ]
  },
  {
   "cell_type": "code",
   "execution_count": 28,
   "metadata": {
    "collapsed": false
   },
   "outputs": [
    {
     "name": "stdout",
     "output_type": "stream",
     "text": [
      "Enter the 1st number: 78\n",
      "Enter the 2nd number: 13\n",
      "The GCD of the two numbers  78  and  13  is  13\n"
     ]
    }
   ],
   "source": [
    "def getword(num):\n",
    "    if str(num)[-1] == '1':\n",
    "        return \"st\"\n",
    "    elif str(num)[-1] == '2':\n",
    "        return \"nd\"\n",
    "    else:\n",
    "        return \"th\"\n",
    "\n",
    "try:\n",
    "    i = 0\n",
    "    mylst = []\n",
    "    while i < 2:\n",
    "        i += 1\n",
    "        msg = \"Enter the %s%s number: \"%(i,getword(i))\n",
    "        ipA = int(raw_input(msg))\n",
    "        mylst.append(ipA)\n",
    "except:\n",
    "    print \"Error\"\n",
    "else:\n",
    "    minVal = min(mylst[0],mylst[1])\n",
    "    while mylst[0] % minVal != 0 or mylst[1] % minVal != 0:\n",
    "        minVal = minVal - 1\n",
    "    print \"The GCD of the two numbers \",mylst[0], \" and \", mylst[1], \" is \", minVal\n"
   ]
  },
  {
   "cell_type": "code",
   "execution_count": null,
   "metadata": {
    "collapsed": true
   },
   "outputs": [],
   "source": []
  }
 ],
 "metadata": {
  "kernelspec": {
   "display_name": "Python 2",
   "language": "python",
   "name": "python2"
  },
  "language_info": {
   "codemirror_mode": {
    "name": "ipython",
    "version": 2
   },
   "file_extension": ".py",
   "mimetype": "text/x-python",
   "name": "python",
   "nbconvert_exporter": "python",
   "pygments_lexer": "ipython2",
   "version": "2.7.11"
  }
 },
 "nbformat": 4,
 "nbformat_minor": 0
}
